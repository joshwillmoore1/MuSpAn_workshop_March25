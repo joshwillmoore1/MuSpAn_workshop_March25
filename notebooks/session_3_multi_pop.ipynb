{
 "cells": [
  {
   "cell_type": "markdown",
   "metadata": {},
   "source": [
    "## Coding session 3: Multipopulation analysis"
   ]
  },
  {
   "cell_type": "markdown",
   "metadata": {},
   "source": [
    "In this session we will focusing on three spatial metrics that account for more than two populations simultaneously:\n",
    "\n",
    "1. Quadrat Correlation Matrix\n",
    "\n",
    "2. Adjacency Permutation Test\n",
    "\n",
    "3. Neighbourhood Clustering\n",
    "\n",
    "This session is a free play session and we provide a list of questions for each metric to guide your analysis. These are not designed in any order, you can choose which ever metric you'd work on first.\n",
    "\n",
    "For all three sections, we'll use the `Mouse-Colon-Carcinoma` dataset stored in the muspan `datasets` module. Here's a reminder on how to load in this dataset:"
   ]
  },
  {
   "cell_type": "code",
   "execution_count": 1,
   "metadata": {},
   "outputs": [
    {
     "name": "stdout",
     "output_type": "stream",
     "text": [
      "MuSpAn domain loaded successfully. Domain summary:\n",
      "Domain name: Mouse cells\n",
      "Number of objects: 6676\n",
      "Collections: ['Cell centres']\n",
      "Labels: ['Celltype', 'CD4'] \n",
      "Networks: [] \n",
      "Distance matrices: []\n"
     ]
    }
   ],
   "source": [
    "# Import the muspan module\n",
    "import muspan as ms\n",
    "\n",
    "# Load the 'Mouse-Colon-Carcinoma' example domain from the muspan datasets\n",
    "a_domain = ms.datasets.load_example_domain('Mouse-Colon-Carcinoma')"
   ]
  },
  {
   "cell_type": "markdown",
   "metadata": {},
   "source": [
    "### Quadrat Correlation Matrix"
   ]
  },
  {
   "cell_type": "markdown",
   "metadata": {},
   "source": [
    "Using our [documentation](https://docs.muspan.co.uk/latest/generated/muspan.region_based.quadrat_correlation_matrix.html#muspan.region_based.quadrat_correlation_matrix) and [tutorial](https://docs.muspan.co.uk/latest/_collections/region_based_analysis/quadrat_correlation.html) on the QCM, try and answer the following question in the 'Mouse-Colon-Carcinoma' dataset:\n",
    "\n",
    "1. What does the Quadrat Correlation Matrix reveal about the spatial relationships between different cell populations in the 'Mouse-Colon-Carcinoma' dataset?\n",
    "\n",
    "2. Are there any specific cell populations that exhibit strong positive or negative correlations? What might these correlations indicate about their spatial interactions?\n",
    "\n",
    "3. How does chaning the region type impact the QCM results? \n",
    "\n",
    "4. Is there a characteristic length scale of co-localisation in the dataset? How can this be identified?\n",
    "\n",
    "5. How do the observed correlations between cell populations compare to what would be expected under spatial randomness? What biological insights can be drawn from any deviations?\n",
    "\n",
    "6. Can you identify any patterns or clusters in the QCM that suggest higher-order spatial dependencies among multiple cell populations? How might these patterns relate to tumor microenvironment dynamics?\n",
    "\n",
    "7. How does the QCM change when analysing different regions of the domain (e.g., sample core vs. periphery)? What does this tell us about the heterogeneity of spatial interactions in the dataset?\n"
   ]
  },
  {
   "cell_type": "markdown",
   "metadata": {},
   "source": [
    "### Adjacency Permutation Test"
   ]
  },
  {
   "cell_type": "markdown",
   "metadata": {},
   "source": [
    "Using our documentation on [generating networks](https://docs.muspan.co.uk/latest/generated/muspan.networks.generate_network.html#muspan.networks.generate_network) (and tutorials) and [Adjacency Permutation Test](https://docs.muspan.co.uk/latest/generated/muspan.networks.adjacency_permutation_test.html#muspan.networks.adjacency_permutation_test), try and answer the following question in the 'Mouse-Colon-Carcinoma' dataset:\n",
    "\n",
    "1. Which cells pairs are significantly adjacnecy up to a distance of 40µm? \n",
    "\n",
    "2. What is the impact of changing between the 'Delaunay' and 'proximity' network type? What is the interpretation of these spatial networks?\n",
    "\n",
    "3. How does the choice of distance threshold impact the results of the adjacency permutation test? \n",
    "\n",
    "4. Can you identify any clusters or regions where adjacency patterns deviate significantly from randomness? How might these relate to tumor microenvironment dynamics?\n",
    "\n"
   ]
  },
  {
   "cell_type": "markdown",
   "metadata": {},
   "source": [
    "### Neighbourhood Clustering"
   ]
  },
  {
   "cell_type": "markdown",
   "metadata": {},
   "source": [
    "Using our [documentation](https://docs.muspan.co.uk/latest/generated/muspan.networks.cluster_neighbourhoods.html#muspan.networks.cluster_neighbourhoods) and [tutorial](https://docs.muspan.co.uk/latest/_collections/network_analysis/Network%20methods%20-%201%20-%20neighbourhood_analysis.html) on the Neighbourhood clustering, try and answer the following question in the 'Mouse-Colon-Carcinoma' dataset:\n",
    "\n",
    "1. What characteristic neighbourhood are present using a delaunay network with Kmean clustering? What is the neighbourhood defined as? What happens when you increasing / descrease k for the clustering?  \n",
    "\n",
    "2. What happends when you change the network to a proximity network? !Careful with the neighbourhood definition - what is k_hops control? What is the interpretation of this network?\n",
    "\n",
    "3. Compare supervised (kmeans) with unsupervised (hdbscan) clustering methods? What are the resultant neighbourhoods? - check out we can alter the clustering parameters from our tutorials\n",
    "\n",
    "4. What does the immune profile around only the epithelial cells in the domain? For this - see neighbourhood source."
   ]
  }
 ],
 "metadata": {
  "kernelspec": {
   "display_name": "Python 3",
   "language": "python",
   "name": "python3"
  },
  "language_info": {
   "codemirror_mode": {
    "name": "ipython",
    "version": 3
   },
   "file_extension": ".py",
   "mimetype": "text/x-python",
   "name": "python",
   "nbconvert_exporter": "python",
   "pygments_lexer": "ipython3",
   "version": "3.11.6"
  }
 },
 "nbformat": 4,
 "nbformat_minor": 2
}
